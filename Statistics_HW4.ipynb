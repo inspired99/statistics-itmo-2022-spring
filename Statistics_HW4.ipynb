{
  "cells": [
    {
      "cell_type": "markdown",
      "metadata": {
        "id": "72ubOOBSYBuz"
      },
      "source": [
        "#### `Выполнил: Евсеев Елисей , 07.04.2022`\n",
        "\n",
        "\n"
      ]
    },
    {
      "cell_type": "markdown",
      "metadata": {
        "id": "xyZsF--PKB3V"
      },
      "source": [
        "\n",
        "> # **Домашнее задание №4**.\n",
        "\n",
        "### **Задача 3**\n",
        "\n",
        "Постройте два доверительных интервала для среднего $a$ (не для нормальной модели):\n",
        "один с известной дисперсией $\\sigma^2$, другой с оцененной по выборке $\\sigma_n^2$.\n",
        "\n",
        "* Исследуйте с какой вероятностью среднее значение попадает в доверительный интервал.\n",
        "\n",
        "* Исследуйте поведение ширины доверительных интервалов при 𝑛, стремящимся к бесконечности.\n",
        "\n",
        "\n",
        "\n"
      ]
    },
    {
      "cell_type": "code",
      "execution_count": null,
      "metadata": {
        "id": "XRt0jhFTW33u"
      },
      "outputs": [],
      "source": [
        "from math import sqrt\n",
        "import matplotlib.pyplot as plt\n",
        "from tqdm import tqdm\n",
        "import numpy as np\n",
        "import pandas as pd\n",
        "\n",
        "import seaborn as sns\n",
        "import scipy \n",
        "\n",
        "%matplotlib inline"
      ]
    },
    {
      "cell_type": "code",
      "source": [
        "np.random.seed(42)"
      ],
      "metadata": {
        "id": "xjrjDz8W3KWe"
      },
      "execution_count": null,
      "outputs": []
    },
    {
      "cell_type": "markdown",
      "source": [
        "Для случая, когда исходное распределение является ненормальным, можно использовать ЦПТ для интервального оценивания по интервалам для нормального распределения.\n",
        "\n",
        "$$\\sqrt{n}\\frac{\\overline{X}_n - \\mu}{\\sigma} \\to N(0,1)$$\n",
        "\n",
        "Пусть в нашем случае будет распределение Пуассона.\n",
        "\n",
        "$$P(\\lambda)=\\frac{\\lambda^k e ^{-k}}{k!}$$\n",
        "\n",
        " Тогда для него мы можем построить асимптотический доверительный интервал (ДИ)."
      ],
      "metadata": {
        "id": "Bux_EsbYmJqY"
      }
    },
    {
      "cell_type": "markdown",
      "source": [
        "Для начала получим выборку объема $n=10000$, сгенерировав её из распределения Пуассона с параметром $\\lambda = 5$, для него $a=5$, $\\sigma^2=5$.\n",
        "\n"
      ],
      "metadata": {
        "id": "IJ05jYmgDha7"
      }
    },
    {
      "cell_type": "code",
      "source": [
        "def generate_poisson_selection(n=10000, lambda_parameter=5.0):\n",
        "    return np.random.poisson(lambda_parameter, n)\n",
        "\n",
        "# example with size = 10\n",
        "print(f\"Example: {generate_poisson_selection(10)}\")"
      ],
      "metadata": {
        "colab": {
          "base_uri": "https://localhost:8080/"
        },
        "id": "T1rACz8fvoct",
        "outputId": "7ef0e2e1-9142-42b7-ff28-297737cf0572"
      },
      "execution_count": null,
      "outputs": [
        {
          "output_type": "stream",
          "name": "stdout",
          "text": [
            "Example: [7 2 4 4 7 7 2 4 4 3]\n"
          ]
        }
      ]
    },
    {
      "cell_type": "markdown",
      "source": [
        "Построим ДИ уровня $\\gamma = 0.95$:\n",
        "\n",
        "$$a \\in (\\overline{X}-\\frac{x_\\gamma \\sigma}{\\sqrt{n}};\\overline{X}+\\frac{x_\\gamma \\sigma}{\\sqrt{n}})$$\n",
        "\n",
        "где $x_\\gamma = z_{\\frac{\\gamma +1}{2}}$ - соотвествующий квантиль нормального распределения. \n",
        "\n",
        "$z_{0.95 + 1/2} = 1.96$. \n",
        "\n",
        "$$a\\in (\\overline{X}-0.044; \\overline{X}+0.044)$$\n",
        "\n",
        "Такой асимптотический ДИ соотвествует конкретной выборке $X_1...X_n$, тогда мы сгенерируем выборку $k$ раз и построим для каждой выборки свой ДИ для того чтобы, проверить попадает ли туда $a=5$ (для распределения Пуассона нам уже известно его среднее - оно равно $\\lambda$ параметру). Так мы найдем вероятность попадания среднего в доверительный интервал."
      ],
      "metadata": {
        "id": "SyPMQcmnFWYy"
      }
    },
    {
      "cell_type": "code",
      "source": [
        "def probability_of_interval(n=10000, x_gamma=1.96, variance=5.0, k=1000, \n",
        "                            lambda_parameter=5.0):\n",
        "    k_selections_mean = []\n",
        "    for _ in range(k):\n",
        "        poisson_selection = generate_poisson_selection(n, lambda_parameter)\n",
        "        k_selections_mean.append(np.mean(poisson_selection))\n",
        "\n",
        "    edges = x_gamma * sqrt(variance) / sqrt(n)\n",
        "    is_interval = [i for i in k_selections_mean if i - edges <= 5.0 \n",
        "                   <= i + edges]\n",
        "    if not is_interval:\n",
        "        return 0.0\n",
        "    print(f\"First 10 mean values: {k_selections_mean[:15]}\")\n",
        "    print(\"Probability equals: \", end=\"\")\n",
        "    return len(is_interval) / k\n",
        "\n"
      ],
      "metadata": {
        "id": "DXX6vtGhOv20"
      },
      "execution_count": null,
      "outputs": []
    },
    {
      "cell_type": "code",
      "source": [
        "probability_of_interval()"
      ],
      "metadata": {
        "colab": {
          "base_uri": "https://localhost:8080/"
        },
        "id": "IC2np1Mtkf_W",
        "outputId": "d3d5cb08-6bc6-48b4-92cb-4a5b702e4023"
      },
      "execution_count": null,
      "outputs": [
        {
          "output_type": "stream",
          "name": "stdout",
          "text": [
            "First 10 mean values: [5.0532, 5.0042, 4.9945, 4.9954, 5.0176, 5.0203, 5.002, 5.0358, 5.0208, 5.0506, 4.9985, 5.0244, 4.9707, 5.0209, 5.0317]\n",
            "Probability equals: "
          ]
        },
        {
          "output_type": "execute_result",
          "data": {
            "text/plain": [
              "0.958"
            ]
          },
          "metadata": {},
          "execution_count": 77
        }
      ]
    },
    {
      "cell_type": "markdown",
      "source": [
        "Как видим $Pr=0.958$ то есть с заданной вероятностью ($\\gamma = 0.95$) действительно попадает в интервал.\n",
        "\n",
        "Теперь сделаем то же самое для распределения Пуассона с оценненой по выборке дисперсией $\\sigma_n^2$ по формуле:\n",
        "\n",
        "$$\\sigma_n^2=\\frac{1}{n}\\sum_{i=0}^n(X_i-\\overline{X})^2$$"
      ],
      "metadata": {
        "id": "2yrGBs-LPRh-"
      }
    },
    {
      "cell_type": "code",
      "source": [
        "def count_selection_variance(X_n, mean):\n",
        "    if len(X_n) == 0:\n",
        "        return 0.0\n",
        "    values = [(i - mean)**2 for i in X_n]\n",
        "    return sum(values) / len(X_n)"
      ],
      "metadata": {
        "id": "Px4KG_wXp5se"
      },
      "execution_count": null,
      "outputs": []
    },
    {
      "cell_type": "code",
      "source": [
        "def probability_of_interval_unknown_var(n=10000, x_gamma=1.96, k=1000, \n",
        "                            lambda_parameter=5.0):\n",
        "    count = 0\n",
        "    for _ in range(k):\n",
        "        poisson_selection = generate_poisson_selection(n, lambda_parameter)\n",
        "        mean = np.mean(poisson_selection)\n",
        "        variance = count_selection_variance(poisson_selection, mean)\n",
        "        edges = x_gamma *sqrt(variance) / sqrt(n)\n",
        "\n",
        "        if mean - edges <= 5.0 <= mean + edges:\n",
        "            count += 1\n",
        "   \n",
        "    print(\"In case of unknown variance\\n Probability equals: \", end='')\n",
        "    return count / k\n",
        "\n"
      ],
      "metadata": {
        "id": "q0-RqczC2ajW"
      },
      "execution_count": null,
      "outputs": []
    },
    {
      "cell_type": "code",
      "source": [
        "probability_of_interval_unknown_var()"
      ],
      "metadata": {
        "colab": {
          "base_uri": "https://localhost:8080/"
        },
        "id": "44ugfAORzlva",
        "outputId": "6280aa08-18d8-4414-cc02-2f06fa984405"
      },
      "execution_count": null,
      "outputs": [
        {
          "output_type": "stream",
          "name": "stdout",
          "text": [
            "In case of unknown variance\n",
            " Probability equals: "
          ]
        },
        {
          "output_type": "execute_result",
          "data": {
            "text/plain": [
              "0.947"
            ]
          },
          "metadata": {},
          "execution_count": 116
        }
      ]
    },
    {
      "cell_type": "markdown",
      "source": [
        "Видим, что вероятность несущественно уменьшилась, однако она по-прежнему близка к $\\gamma = 0.95$."
      ],
      "metadata": {
        "id": "o1zgAYsm0u5i"
      }
    },
    {
      "cell_type": "markdown",
      "source": [
        "Теперь исследуем ширину ДИ при $\\gamma=0.95$ и увеличении $n$, считая для каждого $n$ $k$ интервалов и взяв их среднюю ширину (в случае с известной дисперсией ширина будет одинакова при равном $n$)."
      ],
      "metadata": {
        "id": "8FUn5PuP66Z2"
      }
    },
    {
      "cell_type": "code",
      "source": [
        "def interval_width(n, x_gamma=1.96, variance=5.0, k=100,\n",
        "                            lambda_parameter=5.0, unknown_var=False):\n",
        "    interval_widths = []\n",
        "    for i in range(k):\n",
        "        poisson_selection = generate_poisson_selection(n, lambda_parameter)\n",
        "        if unknown_var:\n",
        "            mean = np.mean(poisson_selection)\n",
        "            variance = count_selection_variance(poisson_selection, mean)\n",
        "            \n",
        "        edges = x_gamma * sqrt(variance) / sqrt(n)\n",
        "        interval_widths.append(2 * edges)\n",
        "    \n",
        "    if not interval_widths:\n",
        "        return 0.0\n",
        "    return np.mean(interval_widths)"
      ],
      "metadata": {
        "id": "FjypY5Rm8gAC"
      },
      "execution_count": null,
      "outputs": []
    },
    {
      "cell_type": "code",
      "source": [
        "fig = plt.figure(figsize=(9,6))\n",
        "ax1 = fig.add_subplot(211)\n",
        "ax2 = fig.add_subplot(212)\n",
        "sns.set_style(\"white\")\n",
        "\n",
        "x_axis = []\n",
        "y_var_axis = []\n",
        "y_unknown_var_axis = []\n",
        "\n",
        "for i in tqdm(range(2, 1002)):\n",
        "    x_axis.append(i)\n",
        "    y_var_axis.append(interval_width(i))\n",
        "    y_unknown_var_axis.append(interval_width(i, unknown_var=True))\n",
        "\n",
        "\n",
        "ax1.plot(x_axis, y_var_axis)\n",
        "ax2.plot(x_axis, y_unknown_var_axis)\n",
        "\n",
        "fig.text(0.5, 0.04, 'Объем выборки', ha='center', va='center')\n",
        "fig.text(0.06, 0.5, 'Ширина ДИ', ha='center', va='center', \n",
        "         rotation='vertical')\n",
        "\n",
        "ax1.set_title('При известной дисперсии', pad=1)\n",
        "ax2.set_title('При дисперсии, оцененной по выборке', pad=1)\n",
        "\n",
        "\n",
        "fig.suptitle(\"Сходимость ДИ при увеличении объема выборки\", \n",
        "          fontdict = {'family':'serif','color':'blue','size':14})\n",
        "plt.show()"
      ],
      "metadata": {
        "colab": {
          "base_uri": "https://localhost:8080/",
          "height": 459
        },
        "id": "PRuLvd747jhC",
        "outputId": "31852411-5673-49ba-ce8e-720793711dcc"
      },
      "execution_count": null,
      "outputs": [
        {
          "output_type": "stream",
          "name": "stderr",
          "text": [
            "100%|██████████| 1000/1000 [02:35<00:00,  6.42it/s]\n"
          ]
        },
        {
          "output_type": "display_data",
          "data": {
            "text/plain": [
              "<Figure size 648x432 with 2 Axes>"
            ],
            "image/png": "[encoded data removed]"
          },
          "metadata": {}
        }
      ]
    },
    {
      "cell_type": "markdown",
      "source": [
        "Таким образом, видим, что ширина интервала при увеличении $n$ в обоих случаях, как и ожидалось, уменьшается и стремится к $0$ со скоростью $\\frac{1}{\\sqrt{n}}$."
      ],
      "metadata": {
        "id": "RZL9l_RLCI-I"
      }
    }
  ],
  "metadata": {
    "colab": {
      "name": "Statistics_HW4",
      "provenance": [],
      "collapsed_sections": []
    },
    "kernelspec": {
      "display_name": "Python 3",
      "name": "python3"
    },
    "language_info": {
      "name": "python"
    }
  },
  "nbformat": 4,
  "nbformat_minor": 0
}